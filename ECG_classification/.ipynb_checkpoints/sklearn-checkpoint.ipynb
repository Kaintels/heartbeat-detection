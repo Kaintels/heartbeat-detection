{
 "cells": [
  {
   "cell_type": "markdown",
   "metadata": {},
   "source": [
    "# 라이브러리 Import"
   ]
  },
  {
   "cell_type": "code",
   "execution_count": null,
   "metadata": {},
   "outputs": [],
   "source": [
    "# 데이터 전처리를 위한 방법\n",
    "import sys\n",
    "from tqdm import tqdm\n",
    "import pandas as pd\n",
    "import numpy as np\n",
    "import math\n",
    "import warnings\n",
    "\n",
    "# 교차검증 방법\n",
    "from sklearn.model_selection import StratifiedKFold\n",
    "from sklearn.model_selection import KFold\n",
    "from sklearn.model_selection import LeaveOneOut\n",
    "\n",
    "# 분류기 방법\n",
    "from sklearn.tree import DecisionTreeClassifier\n",
    "from sklearn.naive_bayes import GaussianNB\n",
    "from sklearn.tree import ExtraTreeClassifier\n",
    "from sklearn.ensemble import RandomForestClassifier\n",
    "warnings.filterwarnings('ignore')"
   ]
  },
  {
   "cell_type": "markdown",
   "metadata": {},
   "source": [
    "# 파라미터 설정"
   ]
  },
  {
   "cell_type": "code",
   "execution_count": null,
   "metadata": {},
   "outputs": [],
   "source": [
    "# 파라미터 설정\n",
    "SEED = 777\n",
    "EPOCH = 10\n",
    "fold_num = 5\n",
    "INDEX = 600\n",
    "\n",
    "# 랜덤 시드 고정\n",
    "np.random.seed(SEED)"
   ]
  },
  {
   "cell_type": "markdown",
   "metadata": {},
   "source": [
    "# 교차검증 및 분류기 설정"
   ]
  },
  {
   "cell_type": "code",
   "execution_count": null,
   "metadata": {},
   "outputs": [],
   "source": [
    "x = data[['8', '12', '14']] #[0,1],2,3,4,5,6,7,8,9,10,11,12,13,14,15,16,17,18,19,20,21,22 \n",
    "y = data['23'] # '23'은 레이블\n",
    "\n",
    "kf = StratifiedKFold(n_split=5)\n",
    "\n",
    "from sklearn.model_selection import cross_val_score\n",
    "clf = RandomForestClassifier(n_estimators=100)"
   ]
  },
  {
   "cell_type": "markdown",
   "metadata": {},
   "source": [
    "# 정확도, 정밀도, 재현율 계산"
   ]
  },
  {
   "cell_type": "code",
   "execution_count": null,
   "metadata": {},
   "outputs": [],
   "source": [
    "acc = cross_val_score(clf, x, y, cv=kf, n_jobs=4, verbose=1)\n",
    "pre = cross_val_score(clf, x, y, cv=kf, n_jobs=4, verbose=1, scoring='precision')\n",
    "recall = cross_val_score(clf, x, y, cv=kf, n_jobs=4, verbose=1, scoring='recall')\n",
    "\n",
    "# 각 결과의 평균\n",
    "acc_mean = np.mean(acc)\n",
    "pre_mean = np.mean(pre)\n",
    "recall_mean = np.mean(recall)\n",
    "\n",
    "print('acc mean: {}'.format(acc_mean))\n",
    "print('pre mean: {}'.format(pre_mean))\n",
    "print('recall mean: {}'.format(recall_mean))"
   ]
  }
 ],
 "metadata": {
  "kernelspec": {
   "display_name": "Python 3",
   "language": "python",
   "name": "python3"
  },
  "language_info": {
   "codemirror_mode": {
    "name": "ipython",
    "version": 3
   },
   "file_extension": ".py",
   "mimetype": "text/x-python",
   "name": "python",
   "nbconvert_exporter": "python",
   "pygments_lexer": "ipython3",
   "version": "3.7.9"
  }
 },
 "nbformat": 4,
 "nbformat_minor": 4
}
